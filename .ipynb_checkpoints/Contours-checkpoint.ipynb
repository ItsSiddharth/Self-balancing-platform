{
 "cells": [
  {
   "cell_type": "code",
   "execution_count": 1,
   "metadata": {},
   "outputs": [],
   "source": [
    "import cv2 as cv\n",
    "import imutils\n",
    "import argparse"
   ]
  },
  {
   "cell_type": "code",
   "execution_count": 5,
   "metadata": {},
   "outputs": [],
   "source": [
    "cap=cv.VideoCapture(1)\n",
    "\n",
    "while True:\n",
    "    _, img = cap.read()\n",
    "    \n",
    "    \n",
    "    imgray = cv.cvtColor(img, cv.COLOR_BGR2GRAY)\n",
    "#     ret, thresh = cv.threshold(imgray, 127, 255, 0)\n",
    "    ret,thresh = cv.threshold(img,127,255,cv.THRESH_BINARY)\n",
    "    cnts = cv.findContours(thresh.copy(), cv.RETR_EXTERNAL,cv.CHAIN_APPROX_SIMPLE)\n",
    "    cnts = imutils.grab_contours(cnts)\n",
    "    \n",
    "    for c in cnts:\n",
    "    # compute the center of the contour\n",
    "        M = cv.moments(thresh)\n",
    " \n",
    "        # calculate x,y coordinate of center\n",
    "        cX = int(M[\"m10\"] / M[\"m00\"])\n",
    "        cY = int(M[\"m01\"] / M[\"m00\"])\n",
    " \n",
    "        # draw the contour and center of the shape on the image\n",
    "        cv.drawContours(thresh, [c], -1, (0, 255, 0), 2)\n",
    "        cv.circle(img, (cX, cY), 7, (255, 120, 55), -1)\n",
    "    cv.imshow('contours',thresh)\n",
    "    cv.imshow('img',img)\n",
    "    \n",
    "    \n",
    "    \n",
    "    key = cv.waitKey(1)\n",
    "    if key == 32:\n",
    "        break\n",
    "\n",
    "cap.release()\n",
    "cv.destroyAllWindows()"
   ]
  },
  {
   "cell_type": "code",
   "execution_count": null,
   "metadata": {},
   "outputs": [],
   "source": []
  }
 ],
 "metadata": {
  "kernelspec": {
   "display_name": "Python 3",
   "language": "python",
   "name": "python3"
  },
  "language_info": {
   "codemirror_mode": {
    "name": "ipython",
    "version": 3
   },
   "file_extension": ".py",
   "mimetype": "text/x-python",
   "name": "python",
   "nbconvert_exporter": "python",
   "pygments_lexer": "ipython3",
   "version": "3.7.1"
  }
 },
 "nbformat": 4,
 "nbformat_minor": 2
}
